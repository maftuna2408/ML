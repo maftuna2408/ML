{
 "cells": [
  {
   "cell_type": "markdown",
   "metadata": {},
   "source": [
    "### King County Housing Data Analysis"
   ]
  },
  {
   "cell_type": "code",
   "execution_count": null,
   "metadata": {},
   "outputs": [],
   "source": [
    "# Step1. Important Necessary Libraries\n",
    "# Step 2. Data Collection and Analysis\n",
    "# Step 3. Data Preprocessing\n",
    "# Step 4. Dataset Visualization\n",
    "# Step 5. Feature engineering"
   ]
  },
  {
   "cell_type": "markdown",
   "metadata": {},
   "source": [
    "### Step1. Important Necessary Libraries"
   ]
  },
  {
   "cell_type": "code",
   "execution_count": null,
   "metadata": {},
   "outputs": [],
   "source": [
    "# Data Manipulation \n",
    "import pandas as pd \n",
    "import numpy as np\n",
    "\n",
    "# Data Visualization \n",
    "import matplotlib.pyplot as plt \n",
    "import seaborn as sns \n",
    "\n",
    "# Data Cleaning\n",
    "import klib \n",
    "\n",
    "\n",
    "# Feature Scaling and Encoding\n",
    "from sklearn.preprocessing import LabelEncoder, OneHotEncoder\n",
    "from sklearn.preprocessing import StandardScaler, MinMaxScaler"
   ]
  },
  {
   "cell_type": "markdown",
   "metadata": {},
   "source": [
    "### Step 2. Data Collection and Analysis"
   ]
  },
  {
   "cell_type": "code",
   "execution_count": null,
   "metadata": {},
   "outputs": [],
   "source": [
    "# Loading the House price dataset \n",
    "df = pd.read_csv( r\"C:\\Users\\Maftuna\\Desktop\\kc_house_data.csv\" )"
   ]
  },
  {
   "cell_type": "code",
   "execution_count": null,
   "metadata": {},
   "outputs": [],
   "source": [
    "# Printing  the first 5 rows of the dataset \n",
    "df.head(5)"
   ]
  },
  {
   "cell_type": "code",
   "execution_count": null,
   "metadata": {},
   "outputs": [],
   "source": [
    "# Printing the last 5 rows of the dataset\n",
    "df.tail(5)"
   ]
  },
  {
   "cell_type": "code",
   "execution_count": null,
   "metadata": {},
   "outputs": [],
   "source": [
    "# Getting the statistical measures of the data\n",
    "df.describe()"
   ]
  },
  {
   "cell_type": "code",
   "execution_count": null,
   "metadata": {},
   "outputs": [],
   "source": [
    "# Number of rows and columns in the dataset\n",
    "print(f\"Dataset contains {df.shape[0]} rows and {df.shape[1]} columns.\")\n"
   ]
  },
  {
   "cell_type": "markdown",
   "metadata": {},
   "source": [
    "### Step 3. Data Preprocessing"
   ]
  },
  {
   "cell_type": "code",
   "execution_count": null,
   "metadata": {},
   "outputs": [],
   "source": [
    "# Print the 5 row of dataset\n",
    "df.head(5)"
   ]
  },
  {
   "cell_type": "code",
   "execution_count": null,
   "metadata": {},
   "outputs": [],
   "source": [
    "# Checking Missing Values \n",
    "df.isnull().sum()"
   ]
  },
  {
   "cell_type": "markdown",
   "metadata": {},
   "source": [
    "> No columns have missing values in this dataset."
   ]
  },
  {
   "cell_type": "code",
   "execution_count": null,
   "metadata": {},
   "outputs": [],
   "source": [
    "# Checking for Duplicate Values\n",
    "duplicates_count = df.duplicated().sum()\n",
    "print(\"Duplicate Values:\", duplicates_count)  "
   ]
  },
  {
   "cell_type": "markdown",
   "metadata": {},
   "source": [
    "> No columns have duplicate vlues too in this dataset."
   ]
  },
  {
   "cell_type": "code",
   "execution_count": null,
   "metadata": {},
   "outputs": [],
   "source": [
    "# Check for unique values in categorical columns\n",
    "print(\"Unique values per categorical column:\")\n",
    "categorical_columns = ['zipcode', 'waterfront', 'view', 'condition', 'grade']\n",
    "for col in categorical_columns:\n",
    "    print(f\"{col}: {df[col].nunique()} unique values\")"
   ]
  },
  {
   "cell_type": "code",
   "execution_count": null,
   "metadata": {},
   "outputs": [],
   "source": [
    "# Convert 'date' to datetime format\n",
    "df['date'] = pd.to_datetime(df['date'], errors='coerce')"
   ]
  },
  {
   "cell_type": "code",
   "execution_count": null,
   "metadata": {},
   "outputs": [],
   "source": [
    "# Extract features from 'date'\n",
    "df['Year'] = df['date'].dt.year\n",
    "df['Month'] = df['date'].dt.month\n",
    "df['Day'] = df['date'].dt.day\n",
    "df['Weekday'] = df['date'].dt.weekday"
   ]
  },
  {
   "cell_type": "code",
   "execution_count": null,
   "metadata": {},
   "outputs": [],
   "source": [
    "# After extracting the features, we can drop it\n",
    "df = df.drop('date', axis=1)"
   ]
  },
  {
   "cell_type": "code",
   "execution_count": null,
   "metadata": {},
   "outputs": [],
   "source": [
    "# Check \"waterfront\" column\n",
    "print(\"Waterfront distribution:\")\n",
    "print(df['waterfront'].value_counts())"
   ]
  },
  {
   "cell_type": "code",
   "execution_count": null,
   "metadata": {},
   "outputs": [],
   "source": [
    "# Check \"view\" column\n",
    "print(\"View distribution:\")\n",
    "print(df['view'].value_counts())"
   ]
  },
  {
   "cell_type": "markdown",
   "metadata": {},
   "source": [
    "> I was curious about these two features because the distribution didn't seem quite even.\n",
    ">\n",
    "> As I discovered, 'waterfront' is overwhelmingly 0 (21,458 entries) compared to just 163 entries with 1.\n",
    ">\n",
    "> Likewise, 'view' is mostly 0 (19,489 entries), with relatively few properties rated 1 through 4.\n",
    ">\n",
    "> This imbalance could influence how these features impact our analysis or models.\n",
    "\n"
   ]
  },
  {
   "cell_type": "code",
   "execution_count": null,
   "metadata": {},
   "outputs": [],
   "source": [
    "# Information about the dataset\n",
    "df.info()"
   ]
  },
  {
   "cell_type": "code",
   "execution_count": null,
   "metadata": {},
   "outputs": [],
   "source": [
    "if 'id' in df.columns:\n",
    "    df = df.drop(columns=['id'])\n",
    "else:\n",
    "    print(\"Column 'id' not found. It may have been removed already.\")"
   ]
  },
  {
   "cell_type": "code",
   "execution_count": null,
   "metadata": {},
   "outputs": [],
   "source": [
    "df=klib.data_cleaning(df)"
   ]
  },
  {
   "cell_type": "code",
   "execution_count": null,
   "metadata": {},
   "outputs": [],
   "source": [
    "# Dataset Information After Klib Cleaning\n",
    "df.info()"
   ]
  },
  {
   "cell_type": "markdown",
   "metadata": {},
   "source": [
    "### Step 4. Dataset Visualation"
   ]
  },
  {
   "cell_type": "code",
   "execution_count": null,
   "metadata": {},
   "outputs": [],
   "source": [
    "# 1. Distribution of House Prices\n",
    "plt.figure(figsize=(10, 6))\n",
    "sns.histplot(df['price'], bins=50, kde=True, color='blue')\n",
    "plt.title('Distribution of House Prices')\n",
    "plt.xlabel('Price')\n",
    "plt.ylabel('Frequency')\n",
    "plt.show()"
   ]
  },
  {
   "cell_type": "code",
   "execution_count": null,
   "metadata": {},
   "outputs": [],
   "source": [
    "# 2. Correlation Heatmap for Numerical Features\n",
    "plt.figure(figsize=(12, 8))\n",
    "corr_matrix = df.corr()\n",
    "sns.heatmap(corr_matrix, annot=True, fmt=\".2f\", cmap='coolwarm')\n",
    "plt.title('Correlation Heatmap of Numerical Features')\n",
    "plt.show()"
   ]
  },
  {
   "cell_type": "code",
   "execution_count": null,
   "metadata": {},
   "outputs": [],
   "source": [
    "# 3. Scatter Plot: Price vs. Living Area (sqft_living)\n",
    "plt.figure(figsize=(10, 6))\n",
    "sns.scatterplot(x='sqft_living', y='price', data=df, alpha=0.6)\n",
    "plt.title('Price vs. Living Area')\n",
    "plt.xlabel('Living Area (sqft)')\n",
    "plt.ylabel('Price')\n",
    "plt.show()"
   ]
  },
  {
   "cell_type": "code",
   "execution_count": null,
   "metadata": {},
   "outputs": [],
   "source": [
    "# 4. Boxplot to Detect Outliers in House Prices\n",
    "plt.figure(figsize=(10, 6))\n",
    "sns.boxplot(x=df['price'], color='green')\n",
    "plt.title('Boxplot of House Prices')\n",
    "plt.xlabel('Price')\n",
    "plt.show()"
   ]
  },
  {
   "cell_type": "code",
   "execution_count": null,
   "metadata": {},
   "outputs": [],
   "source": [
    "# Waterfront vs. price comparison\n",
    "plt.figure(figsize=(8, 5))\n",
    "sns.boxplot(x=df['waterfront'], y=df['price'])\n",
    "plt.title(\"Price Comparison Between Waterfront and Non-Waterfront Properties\")\n",
    "plt.xlabel(\"Waterfront (0 = No, 1 = Yes)\")\n",
    "plt.ylabel(\"Price\")\n",
    "plt.show()\n"
   ]
  },
  {
   "cell_type": "code",
   "execution_count": null,
   "metadata": {},
   "outputs": [],
   "source": [
    "# zipcode vs. price comparison \n",
    "plt.figure(figsize=(14, 6))\n",
    "sns.boxplot(x=df['zipcode'], y=df['price'])\n",
    "plt.xticks(rotation=90)\n",
    "plt.title(\"House Prices by Zipcode\")\n",
    "plt.xlabel(\"Zipcode\")\n",
    "plt.ylabel(\"Price\")\n",
    "plt.show()"
   ]
  },
  {
   "cell_type": "markdown",
   "metadata": {},
   "source": [
    "### Step 5. Feature Engineering"
   ]
  },
  {
   "cell_type": "code",
   "execution_count": null,
   "metadata": {},
   "outputs": [],
   "source": [
    "# Print 5 rows of the dataset\n",
    "df.head(5)"
   ]
  },
  {
   "cell_type": "code",
   "execution_count": null,
   "metadata": {},
   "outputs": [],
   "source": [
    "# Display the column names of the DataFrame\n",
    "df.columns"
   ]
  },
  {
   "cell_type": "code",
   "execution_count": null,
   "metadata": {},
   "outputs": [],
   "source": [
    "# 1. id: Unique identifier for each house.\n",
    "# 2. date: The date on which the house was sold.\n",
    "# 3. price: The sale price of the house (in USD).\n",
    "# 4. bedrooms : Number of bedrooms in the house.\n",
    "# 5. bathrooms: Number of bathrooms in the house (can include half-baths).\n",
    "# 6. sqft_living: Interior living space in square feet.\n",
    "# 7. sqft_lot: Total lot size (land area) in square feet.\n",
    "# 8. floors: Number of floors (levels) in the house.\n",
    "# 9. waterfront: Indicates if the house has a waterfront (0 = no, 1 = yes).\n",
    "# 10. view: Quality of the view from the house (0–4).\n",
    "# 11. condition: Overall condition of the house (1–5).\n",
    "# 12. grade: Overall grade of the house (based on King County grading system, 1–13).\n",
    "# 13. sqft_above: Square footage of the house above ground level (no basement).\n",
    "# 14. sqft_basement: Square footage of the basement.\n",
    "# 15. yr_built: The year the house was originally built.\n",
    "# 16. yr_renovated: The year the house was last renovated (0 if never renovated).\n",
    "# 17. zipcode: The ZIP code where the house is located.\n",
    "# 18. lat:  Latitude coordinate of the house’s location.\n",
    "# 19. long:  Longitude coordinate of the house’s location.\n",
    "# 20. sqft_living15: Average interior living space (in sqft) of homes in the same neighborhood (based on 15 nearest neighbors).\n",
    "# 21. sqft_lot15: Average lot size (in sqft) of homes in the same neighborhood (based on 15 nearest neighbors).\n",
    "# 22. year: Extracted sale year from the date column.\n",
    "# 23. month: Extracted sale month from the date column (1–12).\n",
    "# 24. day: Extracted sale day from the date column (1–31).\n",
    "# 25. weekday: Extracted weekday from the date column (e.g., Monday=0, Sunday=6)."
   ]
  },
  {
   "cell_type": "code",
   "execution_count": null,
   "metadata": {},
   "outputs": [],
   "source": [
    "# Create a new feature: house_age\n",
    "df['house_age'] = df['year'] - df['yr_built']"
   ]
  },
  {
   "cell_type": "code",
   "execution_count": null,
   "metadata": {},
   "outputs": [],
   "source": [
    "# Create a feature: price_per_sqft\n",
    "df['price_per_sqft'] = df['price'] / df['sqft_living']\n"
   ]
  },
  {
   "cell_type": "code",
   "execution_count": null,
   "metadata": {},
   "outputs": [],
   "source": [
    "# Seeing Information about the dataset\n",
    "df.info()"
   ]
  },
  {
   "cell_type": "markdown",
   "metadata": {},
   "source": [
    "### Step 6. Standard Scaling"
   ]
  },
  {
   "cell_type": "code",
   "execution_count": null,
   "metadata": {},
   "outputs": [],
   "source": [
    "# Select numerical features that need scaling\n",
    "features_to_scale = ['sqft_living', 'sqft_lot', 'sqft_above', 'sqft_basement', \n",
    "                     'lat', 'long', 'sqft_living15', 'sqft_lot15']\n",
    "\n",
    "scaler = StandardScaler()\n",
    "df[features_to_scale] = scaler.fit_transform(df[features_to_scale])\n"
   ]
  },
  {
   "cell_type": "code",
   "execution_count": null,
   "metadata": {},
   "outputs": [],
   "source": [
    "# Display the 5 row of dataset \n",
    "df.head(5)"
   ]
  },
  {
   "cell_type": "code",
   "execution_count": null,
   "metadata": {},
   "outputs": [],
   "source": []
  },
  {
   "cell_type": "code",
   "execution_count": null,
   "metadata": {},
   "outputs": [],
   "source": []
  },
  {
   "cell_type": "code",
   "execution_count": null,
   "metadata": {},
   "outputs": [],
   "source": []
  }
 ],
 "metadata": {
  "language_info": {
   "name": "python"
  }
 },
 "nbformat": 4,
 "nbformat_minor": 2
}
