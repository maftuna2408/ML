{
 "cells": [
  {
   "cell_type": "markdown",
   "metadata": {},
   "source": [
    "#### Condition / homework"
   ]
  },
  {
   "cell_type": "code",
   "execution_count": 2,
   "metadata": {},
   "outputs": [
    {
     "name": "stdout",
     "output_type": "stream",
     "text": [
      "Birthday and month\n"
     ]
    }
   ],
   "source": [
    "# Agar parol tog'ri bo'lsa \"Welcome\" aks holda \"Try again\" chiqaradigan dastur tuzilsin. Yaqin kelsa \"Birthday and month\" chiqarish.\n",
    "parol = int(input(2408))\n",
    "if parol == 2408:\n",
    "    print('Welcome')\n",
    "elif parol == 2409:\n",
    "    print('Birthday and month')\n",
    "else:\n",
    "    print('Try again')"
   ]
  },
  {
   "cell_type": "code",
   "execution_count": 5,
   "metadata": {},
   "outputs": [
    {
     "name": "stdout",
     "output_type": "stream",
     "text": [
      "Alo\n"
     ]
    }
   ],
   "source": [
    "score = int(input(\"Bahoni kiriting (2-5):\"))\n",
    "\n",
    "\n",
    "\n",
    "if score == 5:\n",
    "    print ('Alo')\n",
    "elif score == 4:\n",
    "    print('Yaxshi')\n",
    "elif score == 3:\n",
    "    print('Orta')\n",
    "else:\n",
    "    print('Yamon')\n"
   ]
  },
  {
   "cell_type": "code",
   "execution_count": 3,
   "metadata": {},
   "outputs": [
    {
     "name": "stdout",
     "output_type": "stream",
     "text": [
      "True\n"
     ]
    }
   ],
   "source": [
    "son = int(input('Sonni kiriting:'))\n",
    "\n",
    "if son%2 == 0 and son%3 == 0:\n",
    "    print('True')\n",
    "else: \n",
    "    print('False')"
   ]
  },
  {
   "cell_type": "code",
   "execution_count": 4,
   "metadata": {},
   "outputs": [
    {
     "name": "stdout",
     "output_type": "stream",
     "text": [
      "Xatolik bor!!!\n"
     ]
    }
   ],
   "source": [
    "son = int(input('Sonni kiriting:'))\n",
    "\n",
    "if son%2 == 0 and son%3 == 0:\n",
    "    print('Son 6 ga karrali!')\n",
    "else: \n",
    "    print('Xatolik bor!!!')"
   ]
  },
  {
   "cell_type": "code",
   "execution_count": null,
   "metadata": {},
   "outputs": [],
   "source": []
  }
 ],
 "metadata": {
  "kernelspec": {
   "display_name": "Python 3",
   "language": "python",
   "name": "python3"
  },
  "language_info": {
   "codemirror_mode": {
    "name": "ipython",
    "version": 3
   },
   "file_extension": ".py",
   "mimetype": "text/x-python",
   "name": "python",
   "nbconvert_exporter": "python",
   "pygments_lexer": "ipython3",
   "version": "3.12.8"
  }
 },
 "nbformat": 4,
 "nbformat_minor": 2
}
