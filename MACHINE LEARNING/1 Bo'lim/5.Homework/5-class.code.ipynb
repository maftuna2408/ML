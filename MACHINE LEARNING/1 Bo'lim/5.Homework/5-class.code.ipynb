{
 "cells": [
  {
   "cell_type": "markdown",
   "metadata": {},
   "source": []
  },
  {
   "cell_type": "code",
   "execution_count": null,
   "metadata": {},
   "outputs": [],
   "source": [
    "#Data Types\n",
    "#Conditions\n",
    "#Inner Conditions"
   ]
  },
  {
   "cell_type": "code",
   "execution_count": null,
   "metadata": {},
   "outputs": [],
   "source": [
    "#Data Types"
   ]
  },
  {
   "cell_type": "code",
   "execution_count": null,
   "metadata": {},
   "outputs": [],
   "source": [
    "#Conditions"
   ]
  },
  {
   "cell_type": "code",
   "execution_count": null,
   "metadata": {},
   "outputs": [],
   "source": [
    "#Inner Conditions"
   ]
  },
  {
   "cell_type": "code",
   "execution_count": null,
   "metadata": {},
   "outputs": [],
   "source": [
    "#Berilgan  musbat sonni oxirgi raqami 0 bilan tugasa '10 ga bo'linadigan son  5 bn tugasa  '5 ga bo'linadigan bo'lsa ' aks xolda 'qaytadan son kiriting deagn yozuvni ekranga chiqaring(2 ta usulda koring)\n",
    "#Agar berilgan  juft uzunllikka ega bo'lgan so'zning bosh xarfi 'a' yoki 'A' bo'sa bosh xarf agar z yoki Z bo'lsa oxirgi xarf aks xolda xatolik deb ekranga chiqaring\n"
   ]
  },
  {
   "cell_type": "code",
   "execution_count": 3,
   "metadata": {},
   "outputs": [
    {
     "name": "stdout",
     "output_type": "stream",
     "text": [
      "nol\n"
     ]
    }
   ],
   "source": [
    "#Agar son musbat bo'lsa 1 ga ortsin,manfiy bolsa 1 ga kamaysin aks ekranga nol chiqsin \n",
    "x=int(input('sonni kiriting'))\n",
    "if x>0:\n",
    "    print(x+1)\n",
    "elif x<0:\n",
    "    print(x-1)\n",
    "else:\n",
    "    print('nol')\n"
   ]
  },
  {
   "cell_type": "code",
   "execution_count": 4,
   "metadata": {},
   "outputs": [
    {
     "name": "stdout",
     "output_type": "stream",
     "text": [
      "10 ga bolinadigan son\n"
     ]
    }
   ],
   "source": [
    "n=int(input('sonni kiriting'))\n",
    "if n>0 and n%10==0:\n",
    "    print('10 ga bolinadigan son') \n",
    "elif n>0 and n%5==0:\n",
    "    print('5 ga bolinadigan son') \n",
    "else:\n",
    "    print('Qaytadan kiriting')"
   ]
  },
  {
   "cell_type": "code",
   "execution_count": 5,
   "metadata": {},
   "outputs": [
    {
     "name": "stdout",
     "output_type": "stream",
     "text": [
      "Xatolik bor\n"
     ]
    }
   ],
   "source": [
    "n=int(input('sonni kiriting'))\n",
    "if n>0:\n",
    "    if n%10==0:\n",
    "        print('10 ga bolinadigan son')\n",
    "    if n%5==0:\n",
    "        print('5 ga bolinadigan son')\n",
    "    else:\n",
    "        print('Qaytadan kiriting')\n",
    "else:\n",
    "    print('Xatolik bor')\n"
   ]
  },
  {
   "cell_type": "code",
   "execution_count": null,
   "metadata": {},
   "outputs": [],
   "source": []
  },
  {
   "cell_type": "code",
   "execution_count": null,
   "metadata": {},
   "outputs": [],
   "source": [
    "#Agar berilgan  juft uzunllikka ega bo'lgan so'zning bosh xarfi 'a' yoki 'A' bo'sa bosh xarf agar z yoki Z bo'lsa oxirgi xarf aks xolda xatolik deb ekranga chiqaring\n"
   ]
  },
  {
   "cell_type": "code",
   "execution_count": 11,
   "metadata": {},
   "outputs": [
    {
     "name": "stdout",
     "output_type": "stream",
     "text": [
      "bosh yoki  oxir\n"
     ]
    }
   ],
   "source": [
    "s=str(input('textni kiriting:'))\n",
    "if len(s)%2==0:\n",
    "    if (s[0]=='a' or s[0]=='A') and (s[-1]=='z' or s[-1]=='Z'):\n",
    "        print('bosh yoki  oxir')\n",
    "    elif s[0]=='a' or s[0]=='A':\n",
    "        print('bosh xarf')\n",
    "    elif s[-1]=='z' or s[-1]=='Z':\n",
    "        print('oxirgi xarf')\n",
    "    \n",
    "    else:\n",
    "        print('xatolik')\n",
    "else:\n",
    "    print('xatolikni kattasi')"
   ]
  },
  {
   "cell_type": "code",
   "execution_count": 3,
   "metadata": {},
   "outputs": [
    {
     "name": "stdout",
     "output_type": "stream",
     "text": [
      "no\n"
     ]
    }
   ],
   "source": [
    "n=int(input('sonni kiriting:'))\n",
    "if n>0:\n",
    "    if n%10==0:\n",
    "        print('10 ga bolinadigan son')\n",
    "    elif n%5==0:\n",
    "        print('5 ga bolinadigan son')\n",
    "    else:\n",
    "        print('xatolik')\n",
    "else:\n",
    "    print('no')"
   ]
  },
  {
   "cell_type": "code",
   "execution_count": 6,
   "metadata": {},
   "outputs": [
    {
     "name": "stdout",
     "output_type": "stream",
     "text": [
      "10 ga bolinadigan son\n"
     ]
    }
   ],
   "source": [
    "n=int(input('sonni kiriting:'))\n",
    "if n>0:\n",
    "    if str(n)[-1]=='0':\n",
    "            print('10 ga bolinadigan son')\n",
    "\n",
    "    elif str(n)[-1]=='5':\n",
    "        print('5 ga bolinadigan son')\n",
    "    else:\n",
    "        print('xatolik')\n",
    "else:\n",
    "    print('no')"
   ]
  },
  {
   "cell_type": "markdown",
   "metadata": {},
   "source": [
    "# Vazifalar"
   ]
  },
  {
   "cell_type": "code",
   "execution_count": 25,
   "metadata": {},
   "outputs": [
    {
     "name": "stdout",
     "output_type": "stream",
     "text": [
      "Faqat bittasi toq son.\n"
     ]
    }
   ],
   "source": [
    "# a va b  musbat sonning faqat bittasi/ikkalasi toq son\n",
    "\n",
    "\n",
    "a = int(input(\"a = \"))\n",
    "b = int(input(\"b = \"))\n",
    "\n",
    "# Faqat bittasi toq son bo'lsa\n",
    "if (a % 2 == 1 and b % 2 == 0) or (a % 2 == 0 and b % 2 == 1):\n",
    "    print(\"Faqat bittasi toq son.\")\n",
    "else:\n",
    "    print(\"Bunday holat emas.\")\n"
   ]
  },
  {
   "cell_type": "code",
   "execution_count": 24,
   "metadata": {},
   "outputs": [
    {
     "name": "stdout",
     "output_type": "stream",
     "text": [
      "Bunday holat emas.\n"
     ]
    }
   ],
   "source": [
    "# a va b  musbat sonlarning ikkalasi xam toq\n",
    "\n",
    "a = int(input(\"a = \"))\n",
    "b = int(input(\"b = \"))\n",
    "\n",
    "# Ikkalasi ham toq son bo'lsa\n",
    "if a % 2 == 1 and b % 2 == 1:\n",
    "    print(\"Ikkalasi ham toq son.\")\n",
    "else:\n",
    "    print(\"Bunday holat emas.\")\n"
   ]
  },
  {
   "cell_type": "code",
   "execution_count": null,
   "metadata": {},
   "outputs": [
    {
     "name": "stdout",
     "output_type": "stream",
     "text": [
      "5 ga bo‘linadigan son\n"
     ]
    }
   ],
   "source": [
    "\n",
    "\n",
    "#Berilgan  musbat sonni oxirgi raqami 0 bilan tugasa '10 ga bo'linadigan son  5 bn tugasa  '5 ga bo'linadigan bo'lsa ' aks xolda 'qaytadan son kiriting deagn yozuvni ekranga chiqaring(2 ta usulda koring)\n",
    "a = int(input('a = '))\n",
    "\n",
    "if a % 10 == 0:  # 10 ga bo‘linishini tekshirish\n",
    "    print('10 ga bo‘linadigan son')\n",
    "elif a % 5 == 0:  # 5 ga bo‘linishini tekshirish\n",
    "    print('5 ga bo‘linadigan son')\n",
    "else:\n",
    "    print('Qaytadan son kiriting')\n"
   ]
  },
  {
   "cell_type": "code",
   "execution_count": 18,
   "metadata": {},
   "outputs": [
    {
     "name": "stdout",
     "output_type": "stream",
     "text": [
      "10 ga bo‘linadigan son\n"
     ]
    }
   ],
   "source": [
    "#Berilgan  musbat sonni oxirgi raqami 0 bilan tugasa '10 ga bo'linadigan son  5 bn tugasa  '5 ga bo'linadigan bo'lsa ' aks xolda 'qaytadan son kiriting deagn yozuvni ekranga chiqaring(2 ta usulda koring)\n",
    "\n",
    "a = int(input('a = '))\n",
    "\n",
    "if str(a)[-1] == '0':  # Oxirgi raqamni string shaklida tekshirish\n",
    "    print('10 ga bo‘linadigan son')\n",
    "elif str(a)[-1] == '5':  # Oxirgi raqam 5 bo'lsa\n",
    "    print('5 ga bo‘linadigan son')\n",
    "else:\n",
    "    print('Qaytadan son kiriting')\n"
   ]
  },
  {
   "cell_type": "code",
   "execution_count": 23,
   "metadata": {},
   "outputs": [
    {
     "name": "stdout",
     "output_type": "stream",
     "text": [
      "Bosh xarf\n"
     ]
    }
   ],
   "source": [
    "#Agar berilgan  juft uzunllikka ega bo'lgan so'zning bosh xarfi 'a' yoki 'A' bo'sa bosh xarf agar z yoki Z bo'lsa oxirgi xarf aks xolda xatolik deb ekranga chiqaring\n",
    "\n",
    "soz = input(\"So‘z kiriting: \")\n",
    "\n",
    "if len(soz) % 2 == 0:  # Juft uzunlikka ega bo‘lsa\n",
    "    if soz[0] == 'a' or soz[0] == 'A':  # Bosh harf 'a' yoki 'A' bo'lsa\n",
    "        print('Bosh xarf')\n",
    "    elif soz[-1] == 'z' or soz[-1] == 'Z':  # Oxirgi harf 'z' yoki 'Z' bo'lsa\n",
    "        print('Oxirgi xarf')\n",
    "    else:\n",
    "        print('Xatolik')  # Juft uzunlik bo‘lsa-da, shartlarga mos kelmasa\n",
    "else:\n",
    "    print('Xatolik')  # Agar uzunlik juft bo'lmasa\n",
    "\n"
   ]
  },
  {
   "cell_type": "code",
   "execution_count": 12,
   "metadata": {},
   "outputs": [
    {
     "name": "stdout",
     "output_type": "stream",
     "text": [
      "2 ning 5 darajasi 32 ga teng\n"
     ]
    }
   ],
   "source": [
    "# Sonni berilgan darajaga ko'taring(turli xil usullar bn)\n",
    "son = int (input('Sonni kiriting:'))\n",
    "daraja = int (input('Darajani kiriting:'))\n",
    "natija = son**daraja\n",
    "\n",
    "print(f'{son} ning {daraja} darajasi {natija} ga teng')"
   ]
  },
  {
   "cell_type": "code",
   "execution_count": 13,
   "metadata": {},
   "outputs": [
    {
     "name": "stdout",
     "output_type": "stream",
     "text": [
      "2 ning ildizi 1.4142135623730951 ga teng\n"
     ]
    }
   ],
   "source": [
    "#Berilgan sonni ildizini toping\n",
    "\n",
    "import math\n",
    "\n",
    "son = int(input('Sonni kiriting:'))\n",
    "\n",
    "if son >= 0:\n",
    "    ildiz = math.sqrt(son)\n",
    "    print(f'{son} ning ildizi {ildiz} ga teng')\n",
    "else:\n",
    "    print('Musbat son kiriting')\n"
   ]
  },
  {
   "cell_type": "code",
   "execution_count": null,
   "metadata": {},
   "outputs": [],
   "source": [
    "#Berilgan sonni berilgan ildizini toping\n",
    "\n"
   ]
  },
  {
   "cell_type": "code",
   "execution_count": 11,
   "metadata": {},
   "outputs": [
    {
     "name": "stdout",
     "output_type": "stream",
     "text": [
      "False\n"
     ]
    }
   ],
   "source": [
    "# 2 ta int berilganda True qaytaring agar ular bir xil oxirgi raqamga ega bo'lsa\n",
    "\n",
    "x = int(input(\"Birinchi sonni kiritng: \"))\n",
    "y = int(input(\"Ikkinchi sonni kiritng: \"))\n",
    "\n",
    "if str(x)[-1] == str(y)[-1]:\n",
    "    print(True)\n",
    "else:\n",
    "    print(False)\n"
   ]
  },
  {
   "cell_type": "code",
   "execution_count": 1,
   "metadata": {},
   "outputs": [
    {
     "name": "stdout",
     "output_type": "stream",
     "text": [
      "Kiritgan sonning raqamlar yig'indisi: 13\n"
     ]
    }
   ],
   "source": [
    "# Berilgan 3 xonali sonning raqamlar yigindisini aniqlang\n",
    "\n",
    "son = int(input(\"Uch xonali sonni kiriting:\"))\n",
    "\n",
    "a = son // 100\n",
    "b = (son // 10) % 10\n",
    "c = son % 10\n",
    "\n",
    "print(\"Kiritgan sonning raqamlar yig'indisi:\", a + b + c)\n",
    "\n",
    "\n"
   ]
  },
  {
   "cell_type": "code",
   "execution_count": 10,
   "metadata": {},
   "outputs": [
    {
     "name": "stdout",
     "output_type": "stream",
     "text": [
      "$$\n"
     ]
    }
   ],
   "source": [
    "# Berilgan so'zni dastlabki 2 ta xarfidan tashkil topgan soz tuzing agar 2 tadan kam bolsa $ belgisini \n",
    "# ishlatiling agar so'z faqat ''  dan iborat $$ qaytaring\n",
    "\n",
    "soz = input(\"So'zni kiriting: \")\n",
    "\n",
    "if soz == \"\":  # Agar so'z bo'sh bo'lsa\n",
    "    print(\"$$\")\n",
    "elif len(soz) < 2:  # Agar uzunligi 2 tadan kam bo'lsa\n",
    "    print(\"$\")\n",
    "else:  # Agar uzunligi 2 yoki undan ko'p bo'lsa\n",
    "    print(soz[:2])\n",
    "\n"
   ]
  },
  {
   "cell_type": "code",
   "execution_count": null,
   "metadata": {},
   "outputs": [],
   "source": []
  },
  {
   "cell_type": "code",
   "execution_count": null,
   "metadata": {},
   "outputs": [],
   "source": []
  },
  {
   "cell_type": "code",
   "execution_count": null,
   "metadata": {},
   "outputs": [],
   "source": []
  },
  {
   "cell_type": "code",
   "execution_count": null,
   "metadata": {},
   "outputs": [],
   "source": []
  },
  {
   "cell_type": "code",
   "execution_count": null,
   "metadata": {},
   "outputs": [],
   "source": []
  }
 ],
 "metadata": {
  "kernelspec": {
   "display_name": "Python 3",
   "language": "python",
   "name": "python3"
  },
  "language_info": {
   "codemirror_mode": {
    "name": "ipython",
    "version": 3
   },
   "file_extension": ".py",
   "mimetype": "text/x-python",
   "name": "python",
   "nbconvert_exporter": "python",
   "pygments_lexer": "ipython3",
   "version": "3.12.8"
  }
 },
 "nbformat": 4,
 "nbformat_minor": 2
}
