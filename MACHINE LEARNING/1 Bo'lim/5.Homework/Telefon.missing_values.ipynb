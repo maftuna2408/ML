{
 "cells": [
  {
   "cell_type": "markdown",
   "metadata": {},
   "source": [
    "### 1 -  Machine Learning Project!"
   ]
  },
  {
   "cell_type": "code",
   "execution_count": 1,
   "metadata": {},
   "outputs": [],
   "source": [
    "# 1. Data collection \n",
    "# 2. Data Preprocessing\n",
    "# 3. Data analysis\n",
    "# 4. Data visualization\n",
    "# 5. Feature engineering\n",
    "# 6. Split the data into training and testing\n",
    "# 7. Model evaluation\n",
    "# 8. Model deployment       \n",
    "\n",
    "\n"
   ]
  },
  {
   "cell_type": "markdown",
   "metadata": {},
   "source": [
    "#### Data Preprocessing"
   ]
  },
  {
   "cell_type": "code",
   "execution_count": null,
   "metadata": {},
   "outputs": [],
   "source": [
    "## if you want to install any library in python, you can use pip install library_name\n",
    "# pip install pandas\n",
    "# pip install numpy\n",
    "# pip install matplotlib\n",
    "# pip install seaborn"
   ]
  },
  {
   "cell_type": "code",
   "execution_count": 2,
   "metadata": {},
   "outputs": [],
   "source": [
    "# 1. Upload the data\n",
    "# 2. Import the required libraries\n",
    "\n",
    "import pandas as pd\n",
    "import numpy as np \n",
    "import matplotlib.pyplot as plt \n",
    "import seaborn as sns\n"
   ]
  },
  {
   "cell_type": "code",
   "execution_count": 3,
   "metadata": {},
   "outputs": [],
   "source": [
    "df = pd.read_csv('telefon turini aniqlash2.csv')"
   ]
  },
  {
   "cell_type": "code",
   "execution_count": 4,
   "metadata": {},
   "outputs": [
    {
     "data": {
      "text/html": [
       "<div>\n",
       "<style scoped>\n",
       "    .dataframe tbody tr th:only-of-type {\n",
       "        vertical-align: middle;\n",
       "    }\n",
       "\n",
       "    .dataframe tbody tr th {\n",
       "        vertical-align: top;\n",
       "    }\n",
       "\n",
       "    .dataframe thead th {\n",
       "        text-align: right;\n",
       "    }\n",
       "</style>\n",
       "<table border=\"1\" class=\"dataframe\">\n",
       "  <thead>\n",
       "    <tr style=\"text-align: right;\">\n",
       "      <th></th>\n",
       "      <th>battereya_hajmi</th>\n",
       "      <th>blutus</th>\n",
       "      <th>protsessor_tezligi</th>\n",
       "      <th>ikkita simkartalik</th>\n",
       "      <th>Oldi_kamera</th>\n",
       "      <th>4G</th>\n",
       "      <th>Ichki_xotira</th>\n",
       "      <th>tel_ingichgaligi</th>\n",
       "      <th>Rangi</th>\n",
       "      <th>Vazni</th>\n",
       "      <th>...</th>\n",
       "      <th>Qurilma xajmi(pix)</th>\n",
       "      <th>Qurilma ekran kengligi(pix)</th>\n",
       "      <th>ram</th>\n",
       "      <th>Qurilma xajmi(cm)</th>\n",
       "      <th>Qurilma ekran kengligi(cm)</th>\n",
       "      <th>Bir_quvvatlashdagi gaplashish</th>\n",
       "      <th>3g</th>\n",
       "      <th>sensorli</th>\n",
       "      <th>wifi</th>\n",
       "      <th>telefon_turi</th>\n",
       "    </tr>\n",
       "  </thead>\n",
       "  <tbody>\n",
       "    <tr>\n",
       "      <th>0</th>\n",
       "      <td>842</td>\n",
       "      <td>0</td>\n",
       "      <td>2.2</td>\n",
       "      <td>0</td>\n",
       "      <td>1</td>\n",
       "      <td>0</td>\n",
       "      <td>7</td>\n",
       "      <td>0.6</td>\n",
       "      <td>Qizil</td>\n",
       "      <td>188</td>\n",
       "      <td>...</td>\n",
       "      <td>20.0</td>\n",
       "      <td>756.0</td>\n",
       "      <td>2549</td>\n",
       "      <td>9.0</td>\n",
       "      <td>7.0</td>\n",
       "      <td>19</td>\n",
       "      <td>0</td>\n",
       "      <td>0</td>\n",
       "      <td>1</td>\n",
       "      <td>1</td>\n",
       "    </tr>\n",
       "    <tr>\n",
       "      <th>1</th>\n",
       "      <td>1021</td>\n",
       "      <td>1</td>\n",
       "      <td>0.5</td>\n",
       "      <td>1</td>\n",
       "      <td>0</td>\n",
       "      <td>1</td>\n",
       "      <td>53</td>\n",
       "      <td>0.7</td>\n",
       "      <td>Yashil</td>\n",
       "      <td>136</td>\n",
       "      <td>...</td>\n",
       "      <td>905.0</td>\n",
       "      <td>1988.0</td>\n",
       "      <td>2631</td>\n",
       "      <td>17.0</td>\n",
       "      <td>3.0</td>\n",
       "      <td>7</td>\n",
       "      <td>1</td>\n",
       "      <td>1</td>\n",
       "      <td>0</td>\n",
       "      <td>2</td>\n",
       "    </tr>\n",
       "  </tbody>\n",
       "</table>\n",
       "<p>2 rows × 22 columns</p>\n",
       "</div>"
      ],
      "text/plain": [
       "   battereya_hajmi  blutus  protsessor_tezligi  ikkita simkartalik  \\\n",
       "0              842       0                 2.2                   0   \n",
       "1             1021       1                 0.5                   1   \n",
       "\n",
       "   Oldi_kamera  4G  Ichki_xotira  tel_ingichgaligi   Rangi  Vazni  ...  \\\n",
       "0            1   0             7               0.6   Qizil    188  ...   \n",
       "1            0   1            53               0.7  Yashil    136  ...   \n",
       "\n",
       "   Qurilma xajmi(pix)  Qurilma ekran kengligi(pix)   ram  Qurilma xajmi(cm)  \\\n",
       "0                20.0                        756.0  2549                9.0   \n",
       "1               905.0                       1988.0  2631               17.0   \n",
       "\n",
       "   Qurilma ekran kengligi(cm)  Bir_quvvatlashdagi gaplashish  3g  sensorli  \\\n",
       "0                         7.0                             19   0         0   \n",
       "1                         3.0                              7   1         1   \n",
       "\n",
       "   wifi  telefon_turi  \n",
       "0     1             1  \n",
       "1     0             2  \n",
       "\n",
       "[2 rows x 22 columns]"
      ]
     },
     "execution_count": 4,
     "metadata": {},
     "output_type": "execute_result"
    }
   ],
   "source": [
    "df.head(2)"
   ]
  },
  {
   "cell_type": "code",
   "execution_count": 5,
   "metadata": {},
   "outputs": [
    {
     "data": {
      "text/html": [
       "<div>\n",
       "<style scoped>\n",
       "    .dataframe tbody tr th:only-of-type {\n",
       "        vertical-align: middle;\n",
       "    }\n",
       "\n",
       "    .dataframe tbody tr th {\n",
       "        vertical-align: top;\n",
       "    }\n",
       "\n",
       "    .dataframe thead th {\n",
       "        text-align: right;\n",
       "    }\n",
       "</style>\n",
       "<table border=\"1\" class=\"dataframe\">\n",
       "  <thead>\n",
       "    <tr style=\"text-align: right;\">\n",
       "      <th></th>\n",
       "      <th>battereya_hajmi</th>\n",
       "      <th>blutus</th>\n",
       "      <th>protsessor_tezligi</th>\n",
       "      <th>ikkita simkartalik</th>\n",
       "      <th>Oldi_kamera</th>\n",
       "      <th>4G</th>\n",
       "      <th>Ichki_xotira</th>\n",
       "      <th>tel_ingichgaligi</th>\n",
       "      <th>Rangi</th>\n",
       "      <th>Vazni</th>\n",
       "      <th>...</th>\n",
       "      <th>Qurilma xajmi(pix)</th>\n",
       "      <th>Qurilma ekran kengligi(pix)</th>\n",
       "      <th>ram</th>\n",
       "      <th>Qurilma xajmi(cm)</th>\n",
       "      <th>Qurilma ekran kengligi(cm)</th>\n",
       "      <th>Bir_quvvatlashdagi gaplashish</th>\n",
       "      <th>3g</th>\n",
       "      <th>sensorli</th>\n",
       "      <th>wifi</th>\n",
       "      <th>telefon_turi</th>\n",
       "    </tr>\n",
       "  </thead>\n",
       "  <tbody>\n",
       "    <tr>\n",
       "      <th>1998</th>\n",
       "      <td>1512</td>\n",
       "      <td>0</td>\n",
       "      <td>0.9</td>\n",
       "      <td>0</td>\n",
       "      <td>4</td>\n",
       "      <td>1</td>\n",
       "      <td>46</td>\n",
       "      <td>0.1</td>\n",
       "      <td>Qora</td>\n",
       "      <td>145</td>\n",
       "      <td>...</td>\n",
       "      <td>336.0</td>\n",
       "      <td>670.0</td>\n",
       "      <td>869</td>\n",
       "      <td>18.0</td>\n",
       "      <td>10.0</td>\n",
       "      <td>19</td>\n",
       "      <td>1</td>\n",
       "      <td>1</td>\n",
       "      <td>1</td>\n",
       "      <td>0</td>\n",
       "    </tr>\n",
       "    <tr>\n",
       "      <th>1999</th>\n",
       "      <td>510</td>\n",
       "      <td>1</td>\n",
       "      <td>2.0</td>\n",
       "      <td>1</td>\n",
       "      <td>5</td>\n",
       "      <td>1</td>\n",
       "      <td>45</td>\n",
       "      <td>0.9</td>\n",
       "      <td>Qora</td>\n",
       "      <td>168</td>\n",
       "      <td>...</td>\n",
       "      <td>483.0</td>\n",
       "      <td>754.0</td>\n",
       "      <td>3919</td>\n",
       "      <td>19.0</td>\n",
       "      <td>4.0</td>\n",
       "      <td>2</td>\n",
       "      <td>1</td>\n",
       "      <td>1</td>\n",
       "      <td>1</td>\n",
       "      <td>3</td>\n",
       "    </tr>\n",
       "  </tbody>\n",
       "</table>\n",
       "<p>2 rows × 22 columns</p>\n",
       "</div>"
      ],
      "text/plain": [
       "      battereya_hajmi  blutus  protsessor_tezligi  ikkita simkartalik  \\\n",
       "1998             1512       0                 0.9                   0   \n",
       "1999              510       1                 2.0                   1   \n",
       "\n",
       "      Oldi_kamera  4G  Ichki_xotira  tel_ingichgaligi Rangi  Vazni  ...  \\\n",
       "1998            4   1            46               0.1  Qora    145  ...   \n",
       "1999            5   1            45               0.9  Qora    168  ...   \n",
       "\n",
       "      Qurilma xajmi(pix)  Qurilma ekran kengligi(pix)   ram  \\\n",
       "1998               336.0                        670.0   869   \n",
       "1999               483.0                        754.0  3919   \n",
       "\n",
       "      Qurilma xajmi(cm)  Qurilma ekran kengligi(cm)  \\\n",
       "1998               18.0                        10.0   \n",
       "1999               19.0                         4.0   \n",
       "\n",
       "      Bir_quvvatlashdagi gaplashish  3g  sensorli  wifi  telefon_turi  \n",
       "1998                             19   1         1     1             0  \n",
       "1999                              2   1         1     1             3  \n",
       "\n",
       "[2 rows x 22 columns]"
      ]
     },
     "execution_count": 5,
     "metadata": {},
     "output_type": "execute_result"
    }
   ],
   "source": [
    "df.tail(2)"
   ]
  },
  {
   "cell_type": "code",
   "execution_count": 6,
   "metadata": {},
   "outputs": [
    {
     "name": "stdout",
     "output_type": "stream",
     "text": [
      "<class 'pandas.core.frame.DataFrame'>\n",
      "RangeIndex: 2000 entries, 0 to 1999\n",
      "Data columns (total 22 columns):\n",
      " #   Column                         Non-Null Count  Dtype  \n",
      "---  ------                         --------------  -----  \n",
      " 0   battereya_hajmi                2000 non-null   int64  \n",
      " 1   blutus                         2000 non-null   int64  \n",
      " 2   protsessor_tezligi             2000 non-null   float64\n",
      " 3   ikkita simkartalik             2000 non-null   int64  \n",
      " 4   Oldi_kamera                    2000 non-null   int64  \n",
      " 5   4G                             2000 non-null   int64  \n",
      " 6   Ichki_xotira                   2000 non-null   int64  \n",
      " 7   tel_ingichgaligi               1997 non-null   float64\n",
      " 8   Rangi                          2000 non-null   object \n",
      " 9   Vazni                          2000 non-null   int64  \n",
      " 10  Protsessor yadrolari soni      1999 non-null   float64\n",
      " 11  Asosiy kamera                  1998 non-null   float64\n",
      " 12  Qurilma xajmi(pix)             1998 non-null   float64\n",
      " 13  Qurilma ekran kengligi(pix)    1997 non-null   float64\n",
      " 14  ram                            2000 non-null   int64  \n",
      " 15  Qurilma xajmi(cm)              1999 non-null   float64\n",
      " 16  Qurilma ekran kengligi(cm)     1999 non-null   float64\n",
      " 17  Bir_quvvatlashdagi gaplashish  2000 non-null   int64  \n",
      " 18  3g                             2000 non-null   int64  \n",
      " 19  sensorli                       2000 non-null   int64  \n",
      " 20  wifi                           2000 non-null   int64  \n",
      " 21  telefon_turi                   2000 non-null   int64  \n",
      "dtypes: float64(8), int64(13), object(1)\n",
      "memory usage: 343.9+ KB\n"
     ]
    }
   ],
   "source": [
    "df.info()"
   ]
  },
  {
   "cell_type": "code",
   "execution_count": 7,
   "metadata": {},
   "outputs": [
    {
     "data": {
      "text/html": [
       "<div>\n",
       "<style scoped>\n",
       "    .dataframe tbody tr th:only-of-type {\n",
       "        vertical-align: middle;\n",
       "    }\n",
       "\n",
       "    .dataframe tbody tr th {\n",
       "        vertical-align: top;\n",
       "    }\n",
       "\n",
       "    .dataframe thead th {\n",
       "        text-align: right;\n",
       "    }\n",
       "</style>\n",
       "<table border=\"1\" class=\"dataframe\">\n",
       "  <thead>\n",
       "    <tr style=\"text-align: right;\">\n",
       "      <th></th>\n",
       "      <th>battereya_hajmi</th>\n",
       "      <th>blutus</th>\n",
       "      <th>protsessor_tezligi</th>\n",
       "      <th>ikkita simkartalik</th>\n",
       "      <th>Oldi_kamera</th>\n",
       "      <th>4G</th>\n",
       "      <th>Ichki_xotira</th>\n",
       "      <th>tel_ingichgaligi</th>\n",
       "      <th>Vazni</th>\n",
       "      <th>Protsessor yadrolari soni</th>\n",
       "      <th>...</th>\n",
       "      <th>Qurilma xajmi(pix)</th>\n",
       "      <th>Qurilma ekran kengligi(pix)</th>\n",
       "      <th>ram</th>\n",
       "      <th>Qurilma xajmi(cm)</th>\n",
       "      <th>Qurilma ekran kengligi(cm)</th>\n",
       "      <th>Bir_quvvatlashdagi gaplashish</th>\n",
       "      <th>3g</th>\n",
       "      <th>sensorli</th>\n",
       "      <th>wifi</th>\n",
       "      <th>telefon_turi</th>\n",
       "    </tr>\n",
       "  </thead>\n",
       "  <tbody>\n",
       "    <tr>\n",
       "      <th>count</th>\n",
       "      <td>2000.000000</td>\n",
       "      <td>2000.0000</td>\n",
       "      <td>2000.000000</td>\n",
       "      <td>2000.000000</td>\n",
       "      <td>2000.000000</td>\n",
       "      <td>2000.000000</td>\n",
       "      <td>2000.000000</td>\n",
       "      <td>1997.000000</td>\n",
       "      <td>2000.000000</td>\n",
       "      <td>1999.00000</td>\n",
       "      <td>...</td>\n",
       "      <td>1998.000000</td>\n",
       "      <td>1997.000000</td>\n",
       "      <td>2000.000000</td>\n",
       "      <td>1999.000000</td>\n",
       "      <td>1999.000000</td>\n",
       "      <td>2000.000000</td>\n",
       "      <td>2000.000000</td>\n",
       "      <td>2000.000000</td>\n",
       "      <td>2000.000000</td>\n",
       "      <td>2000.000000</td>\n",
       "    </tr>\n",
       "    <tr>\n",
       "      <th>mean</th>\n",
       "      <td>1238.518500</td>\n",
       "      <td>0.4950</td>\n",
       "      <td>1.522250</td>\n",
       "      <td>0.509500</td>\n",
       "      <td>4.309500</td>\n",
       "      <td>0.521500</td>\n",
       "      <td>32.046500</td>\n",
       "      <td>0.501803</td>\n",
       "      <td>140.249000</td>\n",
       "      <td>4.51976</td>\n",
       "      <td>...</td>\n",
       "      <td>645.416416</td>\n",
       "      <td>1251.328493</td>\n",
       "      <td>2124.213000</td>\n",
       "      <td>12.308154</td>\n",
       "      <td>5.768384</td>\n",
       "      <td>11.011000</td>\n",
       "      <td>0.761500</td>\n",
       "      <td>0.503000</td>\n",
       "      <td>0.507000</td>\n",
       "      <td>1.500000</td>\n",
       "    </tr>\n",
       "    <tr>\n",
       "      <th>std</th>\n",
       "      <td>439.418206</td>\n",
       "      <td>0.5001</td>\n",
       "      <td>0.816004</td>\n",
       "      <td>0.500035</td>\n",
       "      <td>4.341444</td>\n",
       "      <td>0.499662</td>\n",
       "      <td>18.145715</td>\n",
       "      <td>0.288519</td>\n",
       "      <td>35.399655</td>\n",
       "      <td>2.28817</td>\n",
       "      <td>...</td>\n",
       "      <td>443.871085</td>\n",
       "      <td>432.235268</td>\n",
       "      <td>1084.732044</td>\n",
       "      <td>4.213650</td>\n",
       "      <td>4.357048</td>\n",
       "      <td>5.463955</td>\n",
       "      <td>0.426273</td>\n",
       "      <td>0.500116</td>\n",
       "      <td>0.500076</td>\n",
       "      <td>1.118314</td>\n",
       "    </tr>\n",
       "    <tr>\n",
       "      <th>min</th>\n",
       "      <td>501.000000</td>\n",
       "      <td>0.0000</td>\n",
       "      <td>0.500000</td>\n",
       "      <td>0.000000</td>\n",
       "      <td>0.000000</td>\n",
       "      <td>0.000000</td>\n",
       "      <td>2.000000</td>\n",
       "      <td>0.100000</td>\n",
       "      <td>80.000000</td>\n",
       "      <td>1.00000</td>\n",
       "      <td>...</td>\n",
       "      <td>0.000000</td>\n",
       "      <td>500.000000</td>\n",
       "      <td>256.000000</td>\n",
       "      <td>5.000000</td>\n",
       "      <td>0.000000</td>\n",
       "      <td>2.000000</td>\n",
       "      <td>0.000000</td>\n",
       "      <td>0.000000</td>\n",
       "      <td>0.000000</td>\n",
       "      <td>0.000000</td>\n",
       "    </tr>\n",
       "    <tr>\n",
       "      <th>25%</th>\n",
       "      <td>851.750000</td>\n",
       "      <td>0.0000</td>\n",
       "      <td>0.700000</td>\n",
       "      <td>0.000000</td>\n",
       "      <td>1.000000</td>\n",
       "      <td>0.000000</td>\n",
       "      <td>16.000000</td>\n",
       "      <td>0.200000</td>\n",
       "      <td>109.000000</td>\n",
       "      <td>3.00000</td>\n",
       "      <td>...</td>\n",
       "      <td>283.250000</td>\n",
       "      <td>875.000000</td>\n",
       "      <td>1207.500000</td>\n",
       "      <td>9.000000</td>\n",
       "      <td>2.000000</td>\n",
       "      <td>6.000000</td>\n",
       "      <td>1.000000</td>\n",
       "      <td>0.000000</td>\n",
       "      <td>0.000000</td>\n",
       "      <td>0.750000</td>\n",
       "    </tr>\n",
       "    <tr>\n",
       "      <th>50%</th>\n",
       "      <td>1226.000000</td>\n",
       "      <td>0.0000</td>\n",
       "      <td>1.500000</td>\n",
       "      <td>1.000000</td>\n",
       "      <td>3.000000</td>\n",
       "      <td>1.000000</td>\n",
       "      <td>32.000000</td>\n",
       "      <td>0.500000</td>\n",
       "      <td>141.000000</td>\n",
       "      <td>4.00000</td>\n",
       "      <td>...</td>\n",
       "      <td>565.500000</td>\n",
       "      <td>1247.000000</td>\n",
       "      <td>2146.500000</td>\n",
       "      <td>12.000000</td>\n",
       "      <td>5.000000</td>\n",
       "      <td>11.000000</td>\n",
       "      <td>1.000000</td>\n",
       "      <td>1.000000</td>\n",
       "      <td>1.000000</td>\n",
       "      <td>1.500000</td>\n",
       "    </tr>\n",
       "    <tr>\n",
       "      <th>75%</th>\n",
       "      <td>1615.250000</td>\n",
       "      <td>1.0000</td>\n",
       "      <td>2.200000</td>\n",
       "      <td>1.000000</td>\n",
       "      <td>7.000000</td>\n",
       "      <td>1.000000</td>\n",
       "      <td>48.000000</td>\n",
       "      <td>0.800000</td>\n",
       "      <td>170.000000</td>\n",
       "      <td>7.00000</td>\n",
       "      <td>...</td>\n",
       "      <td>947.750000</td>\n",
       "      <td>1633.000000</td>\n",
       "      <td>3064.500000</td>\n",
       "      <td>16.000000</td>\n",
       "      <td>9.000000</td>\n",
       "      <td>16.000000</td>\n",
       "      <td>1.000000</td>\n",
       "      <td>1.000000</td>\n",
       "      <td>1.000000</td>\n",
       "      <td>2.250000</td>\n",
       "    </tr>\n",
       "    <tr>\n",
       "      <th>max</th>\n",
       "      <td>1998.000000</td>\n",
       "      <td>1.0000</td>\n",
       "      <td>3.000000</td>\n",
       "      <td>1.000000</td>\n",
       "      <td>19.000000</td>\n",
       "      <td>1.000000</td>\n",
       "      <td>64.000000</td>\n",
       "      <td>1.000000</td>\n",
       "      <td>200.000000</td>\n",
       "      <td>8.00000</td>\n",
       "      <td>...</td>\n",
       "      <td>1960.000000</td>\n",
       "      <td>1998.000000</td>\n",
       "      <td>3998.000000</td>\n",
       "      <td>19.000000</td>\n",
       "      <td>18.000000</td>\n",
       "      <td>20.000000</td>\n",
       "      <td>1.000000</td>\n",
       "      <td>1.000000</td>\n",
       "      <td>1.000000</td>\n",
       "      <td>3.000000</td>\n",
       "    </tr>\n",
       "  </tbody>\n",
       "</table>\n",
       "<p>8 rows × 21 columns</p>\n",
       "</div>"
      ],
      "text/plain": [
       "       battereya_hajmi     blutus  protsessor_tezligi  ikkita simkartalik  \\\n",
       "count      2000.000000  2000.0000         2000.000000         2000.000000   \n",
       "mean       1238.518500     0.4950            1.522250            0.509500   \n",
       "std         439.418206     0.5001            0.816004            0.500035   \n",
       "min         501.000000     0.0000            0.500000            0.000000   \n",
       "25%         851.750000     0.0000            0.700000            0.000000   \n",
       "50%        1226.000000     0.0000            1.500000            1.000000   \n",
       "75%        1615.250000     1.0000            2.200000            1.000000   \n",
       "max        1998.000000     1.0000            3.000000            1.000000   \n",
       "\n",
       "       Oldi_kamera           4G  Ichki_xotira  tel_ingichgaligi        Vazni  \\\n",
       "count  2000.000000  2000.000000   2000.000000       1997.000000  2000.000000   \n",
       "mean      4.309500     0.521500     32.046500          0.501803   140.249000   \n",
       "std       4.341444     0.499662     18.145715          0.288519    35.399655   \n",
       "min       0.000000     0.000000      2.000000          0.100000    80.000000   \n",
       "25%       1.000000     0.000000     16.000000          0.200000   109.000000   \n",
       "50%       3.000000     1.000000     32.000000          0.500000   141.000000   \n",
       "75%       7.000000     1.000000     48.000000          0.800000   170.000000   \n",
       "max      19.000000     1.000000     64.000000          1.000000   200.000000   \n",
       "\n",
       "       Protsessor yadrolari soni  ...  Qurilma xajmi(pix)  \\\n",
       "count                 1999.00000  ...         1998.000000   \n",
       "mean                     4.51976  ...          645.416416   \n",
       "std                      2.28817  ...          443.871085   \n",
       "min                      1.00000  ...            0.000000   \n",
       "25%                      3.00000  ...          283.250000   \n",
       "50%                      4.00000  ...          565.500000   \n",
       "75%                      7.00000  ...          947.750000   \n",
       "max                      8.00000  ...         1960.000000   \n",
       "\n",
       "       Qurilma ekran kengligi(pix)          ram  Qurilma xajmi(cm)  \\\n",
       "count                  1997.000000  2000.000000        1999.000000   \n",
       "mean                   1251.328493  2124.213000          12.308154   \n",
       "std                     432.235268  1084.732044           4.213650   \n",
       "min                     500.000000   256.000000           5.000000   \n",
       "25%                     875.000000  1207.500000           9.000000   \n",
       "50%                    1247.000000  2146.500000          12.000000   \n",
       "75%                    1633.000000  3064.500000          16.000000   \n",
       "max                    1998.000000  3998.000000          19.000000   \n",
       "\n",
       "       Qurilma ekran kengligi(cm)  Bir_quvvatlashdagi gaplashish           3g  \\\n",
       "count                 1999.000000                    2000.000000  2000.000000   \n",
       "mean                     5.768384                      11.011000     0.761500   \n",
       "std                      4.357048                       5.463955     0.426273   \n",
       "min                      0.000000                       2.000000     0.000000   \n",
       "25%                      2.000000                       6.000000     1.000000   \n",
       "50%                      5.000000                      11.000000     1.000000   \n",
       "75%                      9.000000                      16.000000     1.000000   \n",
       "max                     18.000000                      20.000000     1.000000   \n",
       "\n",
       "          sensorli         wifi  telefon_turi  \n",
       "count  2000.000000  2000.000000   2000.000000  \n",
       "mean      0.503000     0.507000      1.500000  \n",
       "std       0.500116     0.500076      1.118314  \n",
       "min       0.000000     0.000000      0.000000  \n",
       "25%       0.000000     0.000000      0.750000  \n",
       "50%       1.000000     1.000000      1.500000  \n",
       "75%       1.000000     1.000000      2.250000  \n",
       "max       1.000000     1.000000      3.000000  \n",
       "\n",
       "[8 rows x 21 columns]"
      ]
     },
     "execution_count": 7,
     "metadata": {},
     "output_type": "execute_result"
    }
   ],
   "source": [
    "df.describe()"
   ]
  },
  {
   "cell_type": "code",
   "execution_count": 8,
   "metadata": {},
   "outputs": [
    {
     "data": {
      "text/plain": [
       "0    1\n",
       "1    0\n",
       "Name: Oldi_kamera, dtype: int64"
      ]
     },
     "execution_count": 8,
     "metadata": {},
     "output_type": "execute_result"
    }
   ],
   "source": [
    "# bitta ustunni ko'rish \n",
    "\n",
    "df['Oldi_kamera'].head(2)"
   ]
  },
  {
   "cell_type": "code",
   "execution_count": 9,
   "metadata": {},
   "outputs": [
    {
     "data": {
      "text/plain": [
       "0    2.0\n",
       "1    6.0\n",
       "Name: Asosiy kamera, dtype: float64"
      ]
     },
     "execution_count": 9,
     "metadata": {},
     "output_type": "execute_result"
    }
   ],
   "source": [
    "df['Asosiy kamera'].head(2)"
   ]
  },
  {
   "cell_type": "markdown",
   "metadata": {},
   "source": [
    "#### Missing values"
   ]
  },
  {
   "cell_type": "code",
   "execution_count": 10,
   "metadata": {},
   "outputs": [
    {
     "data": {
      "text/plain": [
       "battereya_hajmi                  0\n",
       "blutus                           0\n",
       "protsessor_tezligi               0\n",
       "ikkita simkartalik               0\n",
       "Oldi_kamera                      0\n",
       "4G                               0\n",
       "Ichki_xotira                     0\n",
       "tel_ingichgaligi                 3\n",
       "Rangi                            0\n",
       "Vazni                            0\n",
       "Protsessor yadrolari soni        1\n",
       "Asosiy kamera                    2\n",
       "Qurilma xajmi(pix)               2\n",
       "Qurilma ekran kengligi(pix)      3\n",
       "ram                              0\n",
       "Qurilma xajmi(cm)                1\n",
       "Qurilma ekran kengligi(cm)       1\n",
       "Bir_quvvatlashdagi gaplashish    0\n",
       "3g                               0\n",
       "sensorli                         0\n",
       "wifi                             0\n",
       "telefon_turi                     0\n",
       "dtype: int64"
      ]
     },
     "execution_count": 10,
     "metadata": {},
     "output_type": "execute_result"
    }
   ],
   "source": [
    "# tushib qolgan ustunlarni ko'rish\n",
    "df.isnull().sum()"
   ]
  },
  {
   "cell_type": "code",
   "execution_count": null,
   "metadata": {},
   "outputs": [],
   "source": [
    "# 1.drop \n",
    "# df.drop('ustun nomi', axis=1, inplace=True)\n",
    "\n",
    "# df.drop('tel_ingichgaligi', axis=1, inplace=True)"
   ]
  },
  {
   "cell_type": "code",
   "execution_count": 11,
   "metadata": {},
   "outputs": [
    {
     "name": "stderr",
     "output_type": "stream",
     "text": [
      "C:\\Users\\Maftuna\\AppData\\Local\\Temp\\ipykernel_21088\\3869195077.py:1: FutureWarning: A value is trying to be set on a copy of a DataFrame or Series through chained assignment using an inplace method.\n",
      "The behavior will change in pandas 3.0. This inplace method will never work because the intermediate object on which we are setting values always behaves as a copy.\n",
      "\n",
      "For example, when doing 'df[col].method(value, inplace=True)', try using 'df.method({col: value}, inplace=True)' or df[col] = df[col].method(value) instead, to perform the operation inplace on the original object.\n",
      "\n",
      "\n",
      "  df['Asosiy kamera'].fillna(df['Asosiy kamera'].mean(), inplace = True)\n"
     ]
    }
   ],
   "source": [
    "# 2. Mean \n",
    "\n",
    "\n",
    "df['Asosiy kamera'].fillna(df['Asosiy kamera'].mean(), inplace = True)"
   ]
  },
  {
   "cell_type": "code",
   "execution_count": 20,
   "metadata": {},
   "outputs": [
    {
     "data": {
      "text/plain": [
       "0       0\n",
       "1       1\n",
       "2       1\n",
       "3       1\n",
       "4       1\n",
       "       ..\n",
       "1995    1\n",
       "1996    1\n",
       "1997    1\n",
       "1998    1\n",
       "1999    1\n",
       "Name: 3g, Length: 2000, dtype: int64"
      ]
     },
     "execution_count": 20,
     "metadata": {},
     "output_type": "execute_result"
    }
   ],
   "source": [
    "# Ixtiyoriy ustunni ko'rish \n",
    "\n",
    "df['3g']\n"
   ]
  },
  {
   "cell_type": "code",
   "execution_count": 22,
   "metadata": {},
   "outputs": [
    {
     "name": "stderr",
     "output_type": "stream",
     "text": [
      "C:\\Users\\Maftuna\\AppData\\Local\\Temp\\ipykernel_21088\\3107921611.py:3: FutureWarning: Setting an item of incompatible dtype is deprecated and will raise an error in a future version of pandas. Value 'Qora' has dtype incompatible with float64, please explicitly cast to a compatible dtype first.\n",
      "  df.fillna(df['Rangi'].mode()[0], inplace = True)\n"
     ]
    }
   ],
   "source": [
    "# 3. Mode \n",
    "\n",
    "df.fillna(df['Rangi'].mode()[0], inplace = True)"
   ]
  },
  {
   "cell_type": "code",
   "execution_count": 23,
   "metadata": {},
   "outputs": [],
   "source": [
    "# 4. Median\n",
    "df.fillna(df['Oldi_kamera'].median(), inplace = True)"
   ]
  },
  {
   "cell_type": "code",
   "execution_count": 24,
   "metadata": {},
   "outputs": [
    {
     "name": "stderr",
     "output_type": "stream",
     "text": [
      "C:\\Users\\Maftuna\\AppData\\Local\\Temp\\ipykernel_21088\\3395657509.py:2: FutureWarning: DataFrame.fillna with 'method' is deprecated and will raise in a future version. Use obj.ffill() or obj.bfill() instead.\n",
      "  df.fillna(method='ffill', inplace = True)\n"
     ]
    }
   ],
   "source": [
    "# 5. Forward fill\n",
    "df.fillna(method='ffill', inplace = True)"
   ]
  },
  {
   "cell_type": "code",
   "execution_count": 26,
   "metadata": {},
   "outputs": [
    {
     "name": "stdout",
     "output_type": "stream",
     "text": [
      "<class 'pandas.core.frame.DataFrame'>\n",
      "RangeIndex: 2000 entries, 0 to 1999\n",
      "Data columns (total 23 columns):\n",
      " #   Column                         Non-Null Count  Dtype  \n",
      "---  ------                         --------------  -----  \n",
      " 0   battereya_hajmi                2000 non-null   int64  \n",
      " 1   blutus                         2000 non-null   int64  \n",
      " 2   protsessor_tezligi             2000 non-null   float64\n",
      " 3   ikkita simkartalik             2000 non-null   int64  \n",
      " 4   Oldi_kamera                    2000 non-null   int64  \n",
      " 5   4G                             2000 non-null   int64  \n",
      " 6   Ichki_xotira                   2000 non-null   int64  \n",
      " 7   tel_ingichgaligi               2000 non-null   object \n",
      " 8   Rangi                          2000 non-null   object \n",
      " 9   Vazni                          2000 non-null   int64  \n",
      " 10  Protsessor yadrolari soni      2000 non-null   object \n",
      " 11  Asosiy kamera                  2000 non-null   int64  \n",
      " 12  Qurilma xajmi(pix)             2000 non-null   object \n",
      " 13  Qurilma ekran kengligi(pix)    2000 non-null   object \n",
      " 14  ram                            2000 non-null   int64  \n",
      " 15  Qurilma xajmi(cm)              2000 non-null   object \n",
      " 16  Qurilma ekran kengligi(cm)     2000 non-null   object \n",
      " 17  Bir_quvvatlashdagi gaplashish  2000 non-null   int64  \n",
      " 18  3g                             2000 non-null   int64  \n",
      " 19  sensorli                       2000 non-null   int64  \n",
      " 20  wifi                           2000 non-null   int64  \n",
      " 21  telefon_turi                   2000 non-null   int64  \n",
      " 22  kamera_sifati                  2000 non-null   int64  \n",
      "dtypes: float64(1), int64(15), object(7)\n",
      "memory usage: 359.5+ KB\n"
     ]
    }
   ],
   "source": [
    "df.info()"
   ]
  },
  {
   "cell_type": "code",
   "execution_count": 27,
   "metadata": {},
   "outputs": [],
   "source": [
    "# umumiy to'drish usuallari\n",
    "missing_col = df.columns[df.isnull().sum() > 0]\n",
    "\n",
    "for col in missing_col:\n",
    "    if df[col].dtype == 'object':\n",
    "        df[col].fillna(df[col].mode()[0], inplace = True)\n",
    "    else:\n",
    "        df[col].fillna(df[col].mean(), inplace = True)"
   ]
  },
  {
   "cell_type": "code",
   "execution_count": 28,
   "metadata": {},
   "outputs": [
    {
     "data": {
      "text/plain": [
       "Index([], dtype='object')"
      ]
     },
     "execution_count": 28,
     "metadata": {},
     "output_type": "execute_result"
    }
   ],
   "source": [
    "missing_col"
   ]
  },
  {
   "cell_type": "code",
   "execution_count": 12,
   "metadata": {},
   "outputs": [],
   "source": [
    "df['Asosiy kamera'] = df['Asosiy kamera'].astype(int)"
   ]
  },
  {
   "cell_type": "code",
   "execution_count": 13,
   "metadata": {},
   "outputs": [],
   "source": [
    "# Yangi feature qo'shish\n",
    "\n",
    "df['kamera_sifati'] = df['Oldi_kamera'] + df['Asosiy kamera']\n"
   ]
  },
  {
   "cell_type": "code",
   "execution_count": 14,
   "metadata": {},
   "outputs": [
    {
     "data": {
      "text/plain": [
       "0        3\n",
       "1        6\n",
       "2        8\n",
       "3        9\n",
       "4       27\n",
       "        ..\n",
       "1995    14\n",
       "1996     3\n",
       "1997     4\n",
       "1998     9\n",
       "1999    21\n",
       "Name: kamera_sifati, Length: 2000, dtype: int64"
      ]
     },
     "execution_count": 14,
     "metadata": {},
     "output_type": "execute_result"
    }
   ],
   "source": [
    "df['kamera_sifati']"
   ]
  },
  {
   "cell_type": "code",
   "execution_count": 15,
   "metadata": {},
   "outputs": [
    {
     "data": {
      "text/html": [
       "<div>\n",
       "<style scoped>\n",
       "    .dataframe tbody tr th:only-of-type {\n",
       "        vertical-align: middle;\n",
       "    }\n",
       "\n",
       "    .dataframe tbody tr th {\n",
       "        vertical-align: top;\n",
       "    }\n",
       "\n",
       "    .dataframe thead th {\n",
       "        text-align: right;\n",
       "    }\n",
       "</style>\n",
       "<table border=\"1\" class=\"dataframe\">\n",
       "  <thead>\n",
       "    <tr style=\"text-align: right;\">\n",
       "      <th></th>\n",
       "      <th>battereya_hajmi</th>\n",
       "      <th>blutus</th>\n",
       "      <th>protsessor_tezligi</th>\n",
       "      <th>ikkita simkartalik</th>\n",
       "      <th>Oldi_kamera</th>\n",
       "      <th>4G</th>\n",
       "      <th>Ichki_xotira</th>\n",
       "      <th>tel_ingichgaligi</th>\n",
       "      <th>Rangi</th>\n",
       "      <th>Vazni</th>\n",
       "      <th>...</th>\n",
       "      <th>Qurilma ekran kengligi(pix)</th>\n",
       "      <th>ram</th>\n",
       "      <th>Qurilma xajmi(cm)</th>\n",
       "      <th>Qurilma ekran kengligi(cm)</th>\n",
       "      <th>Bir_quvvatlashdagi gaplashish</th>\n",
       "      <th>3g</th>\n",
       "      <th>sensorli</th>\n",
       "      <th>wifi</th>\n",
       "      <th>telefon_turi</th>\n",
       "      <th>kamera_sifati</th>\n",
       "    </tr>\n",
       "  </thead>\n",
       "  <tbody>\n",
       "    <tr>\n",
       "      <th>0</th>\n",
       "      <td>842</td>\n",
       "      <td>0</td>\n",
       "      <td>2.2</td>\n",
       "      <td>0</td>\n",
       "      <td>1</td>\n",
       "      <td>0</td>\n",
       "      <td>7</td>\n",
       "      <td>0.6</td>\n",
       "      <td>Qizil</td>\n",
       "      <td>188</td>\n",
       "      <td>...</td>\n",
       "      <td>756.0</td>\n",
       "      <td>2549</td>\n",
       "      <td>9.0</td>\n",
       "      <td>7.0</td>\n",
       "      <td>19</td>\n",
       "      <td>0</td>\n",
       "      <td>0</td>\n",
       "      <td>1</td>\n",
       "      <td>1</td>\n",
       "      <td>3</td>\n",
       "    </tr>\n",
       "  </tbody>\n",
       "</table>\n",
       "<p>1 rows × 23 columns</p>\n",
       "</div>"
      ],
      "text/plain": [
       "   battereya_hajmi  blutus  protsessor_tezligi  ikkita simkartalik  \\\n",
       "0              842       0                 2.2                   0   \n",
       "\n",
       "   Oldi_kamera  4G  Ichki_xotira  tel_ingichgaligi  Rangi  Vazni  ...  \\\n",
       "0            1   0             7               0.6  Qizil    188  ...   \n",
       "\n",
       "   Qurilma ekran kengligi(pix)   ram  Qurilma xajmi(cm)  \\\n",
       "0                        756.0  2549                9.0   \n",
       "\n",
       "   Qurilma ekran kengligi(cm)  Bir_quvvatlashdagi gaplashish  3g  sensorli  \\\n",
       "0                         7.0                             19   0         0   \n",
       "\n",
       "   wifi  telefon_turi  kamera_sifati  \n",
       "0     1             1              3  \n",
       "\n",
       "[1 rows x 23 columns]"
      ]
     },
     "execution_count": 15,
     "metadata": {},
     "output_type": "execute_result"
    }
   ],
   "source": [
    "df.head(1)"
   ]
  },
  {
   "cell_type": "code",
   "execution_count": 16,
   "metadata": {},
   "outputs": [
    {
     "name": "stdout",
     "output_type": "stream",
     "text": [
      "<class 'pandas.core.frame.DataFrame'>\n",
      "RangeIndex: 2000 entries, 0 to 1999\n",
      "Data columns (total 23 columns):\n",
      " #   Column                         Non-Null Count  Dtype  \n",
      "---  ------                         --------------  -----  \n",
      " 0   battereya_hajmi                2000 non-null   int64  \n",
      " 1   blutus                         2000 non-null   int64  \n",
      " 2   protsessor_tezligi             2000 non-null   float64\n",
      " 3   ikkita simkartalik             2000 non-null   int64  \n",
      " 4   Oldi_kamera                    2000 non-null   int64  \n",
      " 5   4G                             2000 non-null   int64  \n",
      " 6   Ichki_xotira                   2000 non-null   int64  \n",
      " 7   tel_ingichgaligi               1997 non-null   float64\n",
      " 8   Rangi                          2000 non-null   object \n",
      " 9   Vazni                          2000 non-null   int64  \n",
      " 10  Protsessor yadrolari soni      1999 non-null   float64\n",
      " 11  Asosiy kamera                  2000 non-null   int64  \n",
      " 12  Qurilma xajmi(pix)             1998 non-null   float64\n",
      " 13  Qurilma ekran kengligi(pix)    1997 non-null   float64\n",
      " 14  ram                            2000 non-null   int64  \n",
      " 15  Qurilma xajmi(cm)              1999 non-null   float64\n",
      " 16  Qurilma ekran kengligi(cm)     1999 non-null   float64\n",
      " 17  Bir_quvvatlashdagi gaplashish  2000 non-null   int64  \n",
      " 18  3g                             2000 non-null   int64  \n",
      " 19  sensorli                       2000 non-null   int64  \n",
      " 20  wifi                           2000 non-null   int64  \n",
      " 21  telefon_turi                   2000 non-null   int64  \n",
      " 22  kamera_sifati                  2000 non-null   int64  \n",
      "dtypes: float64(7), int64(15), object(1)\n",
      "memory usage: 359.5+ KB\n"
     ]
    }
   ],
   "source": [
    "df.info()"
   ]
  },
  {
   "cell_type": "code",
   "execution_count": 19,
   "metadata": {},
   "outputs": [
    {
     "data": {
      "text/plain": [
       "(2000, 23)"
      ]
     },
     "execution_count": 19,
     "metadata": {},
     "output_type": "execute_result"
    }
   ],
   "source": [
    "df.shape"
   ]
  },
  {
   "cell_type": "code",
   "execution_count": 17,
   "metadata": {},
   "outputs": [],
   "source": [
    "# df['battereya_hajmi'].dropna(inplace=)    # drop only NaN values\n",
    "# df['battereya_hajmi'].drop                 # drop the column"
   ]
  },
  {
   "cell_type": "code",
   "execution_count": 29,
   "metadata": {},
   "outputs": [
    {
     "data": {
      "text/plain": [
       "Index([], dtype='object')"
      ]
     },
     "execution_count": 29,
     "metadata": {},
     "output_type": "execute_result"
    }
   ],
   "source": [
    "# faqat NaN qiymatlari mavjud ustunlarni ko'rish \n",
    "\n",
    "df.columns[df.isna().any()]"
   ]
  },
  {
   "cell_type": "code",
   "execution_count": null,
   "metadata": {},
   "outputs": [],
   "source": []
  },
  {
   "cell_type": "code",
   "execution_count": null,
   "metadata": {},
   "outputs": [],
   "source": []
  },
  {
   "cell_type": "code",
   "execution_count": null,
   "metadata": {},
   "outputs": [],
   "source": []
  },
  {
   "cell_type": "code",
   "execution_count": null,
   "metadata": {},
   "outputs": [],
   "source": []
  },
  {
   "cell_type": "code",
   "execution_count": null,
   "metadata": {},
   "outputs": [],
   "source": []
  },
  {
   "cell_type": "code",
   "execution_count": null,
   "metadata": {},
   "outputs": [],
   "source": []
  }
 ],
 "metadata": {
  "kernelspec": {
   "display_name": "Python 3",
   "language": "python",
   "name": "python3"
  },
  "language_info": {
   "codemirror_mode": {
    "name": "ipython",
    "version": 3
   },
   "file_extension": ".py",
   "mimetype": "text/x-python",
   "name": "python",
   "nbconvert_exporter": "python",
   "pygments_lexer": "ipython3",
   "version": "3.12.8"
  }
 },
 "nbformat": 4,
 "nbformat_minor": 2
}
