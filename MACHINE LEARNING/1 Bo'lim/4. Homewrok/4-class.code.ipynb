{
 "cells": [
  {
   "cell_type": "markdown",
   "metadata": {},
   "source": [
    "### Arifmetk amallar"
   ]
  },
  {
   "cell_type": "code",
   "execution_count": 10,
   "metadata": {},
   "outputs": [
    {
     "name": "stdout",
     "output_type": "stream",
     "text": [
      "Toq son\n"
     ]
    }
   ],
   "source": [
    "# mantiqiy amal \n",
    "# 1. misol. Juft yoki toq sonni aniqlash \n",
    "\n",
    "son = int(input(\"Sonni kiriting: \"))\n",
    "if son%2 == 0:\n",
    "    print(\"Juft son\")\n",
    "else:\n",
    "        print(\"Toq son\")\n"
   ]
  },
  {
   "cell_type": "code",
   "execution_count": null,
   "metadata": {},
   "outputs": [
    {
     "name": "stdout",
     "output_type": "stream",
     "text": [
      "Katta yoshda\n"
     ]
    }
   ],
   "source": [
    "# 2.misol. Yoshga qarab kategoriyani aniqlash\n",
    "\n",
    "yosh = int(input(\"Yoshingizni kiriting: \"))\n",
    "if  0<yosh<=12:\n",
    "    print(\"Bola\")\n",
    "elif yosh<12 and yosh<=19:\n",
    "    print(\"O'smir\")\n",
    "else: \n",
    "    print(\"Katta yoshda\")"
   ]
  },
  {
   "cell_type": "code",
   "execution_count": 15,
   "metadata": {},
   "outputs": [
    {
     "name": "stdout",
     "output_type": "stream",
     "text": [
      "Keng burchakli uchburchak\n"
     ]
    }
   ],
   "source": [
    "# 3.misol. Burchak gradusig qarab uchburchakni aniqlash\n",
    "c = int(input(\"Uchburchakni burchagini kiriting: \"))\n",
    "\n",
    "if c == 90:\n",
    "    print(\"To'g'ri burchakli uchburcha!\")\n",
    "elif c < 90:\n",
    "    print(\"O'tkir burchakli uchburchak\")\n",
    "else:\n",
    "    print(\"Keng burchakli uchburchak\")"
   ]
  },
  {
   "cell_type": "code",
   "execution_count": 20,
   "metadata": {},
   "outputs": [
    {
     "name": "stdout",
     "output_type": "stream",
     "text": [
      "22 soni 3 va 5 sonlariga bo'linmaydi\n"
     ]
    }
   ],
   "source": [
    "# 4.misol. Son 3 va 5 ga bo'linadimi\n",
    "\n",
    "x = int(input(\"Sonni kiriting: \"))\n",
    "\n",
    "if x%3 == 0 and x%5 == 0:\n",
    "    print(x, \"soni 3 va 5 ga bo'linadi\")\n",
    "elif x%3 == 0:\n",
    "    print(x, \"soni faqat 3 ga bo'linadi\")\n",
    "elif x%5 == 0:\n",
    "    print(x, \"soni faqat 5 ga bo'linadi\")\n",
    "else:\n",
    "    print(x, \"soni 3 va 5 sonlariga bo'linmaydi\")"
   ]
  },
  {
   "cell_type": "markdown",
   "metadata": {},
   "source": [
    "#### Agar son manfiy bo'lsa son manfiy, musbat bo'lsa musbat, agar nolga teng bo'lsa nol degan yozuv ekranga chiqsin "
   ]
  },
  {
   "cell_type": "code",
   "execution_count": 5,
   "metadata": {},
   "outputs": [
    {
     "name": "stdout",
     "output_type": "stream",
     "text": [
      "Son manfiy\n"
     ]
    }
   ],
   "source": [
    "c = int(input(\"Sonni kiriitng:\"))\n",
    "\n",
    "if c > 0:\n",
    "    print('Kiritilgan son musbat')\n",
    "elif c<0:\n",
    "    print('Kiritilgan son manfiy')\n",
    "else:\n",
    "    print('Son nolga teng!')"
   ]
  },
  {
   "cell_type": "markdown",
   "metadata": {},
   "source": [
    "#### a sonni b sondan katta (kichik) ekanligini ko'rsating"
   ]
  },
  {
   "cell_type": "code",
   "execution_count": 9,
   "metadata": {},
   "outputs": [
    {
     "name": "stdout",
     "output_type": "stream",
     "text": [
      "5 soni 9 sondan kichik\n"
     ]
    }
   ],
   "source": [
    "a = int(input(\"Birinchi sonni kiriting!\"))\n",
    "        \n",
    "b= int(input(\"Ikkinchi sonni kiriitng!\"))\n",
    "        \n",
    "if a > b:\n",
    "    print(a, \"soni\", b, \"sondan katta\")\n",
    "else:\n",
    "    print(a, \"soni\", b, \"sondan kichik\")\n"
   ]
  },
  {
   "cell_type": "markdown",
   "metadata": {},
   "source": [
    "##### Ikki sonni o'rta arifmetigini topish."
   ]
  },
  {
   "cell_type": "code",
   "execution_count": 12,
   "metadata": {},
   "outputs": [
    {
     "name": "stdout",
     "output_type": "stream",
     "text": [
      "Ikki sonnning o'rta arifmetigi: 8.5\n"
     ]
    }
   ],
   "source": [
    "a = int(input(\"Birinchi sonni kiriting!\"))\n",
    "        \n",
    "b= int(input(\"Ikkinchi sonni kiriitng!\"))\n",
    "\n",
    "print(\"Ikki sonnning o'rta arifmetigi:\", (a+b)/2)"
   ]
  },
  {
   "cell_type": "markdown",
   "metadata": {},
   "source": []
  },
  {
   "cell_type": "code",
   "execution_count": null,
   "metadata": {},
   "outputs": [],
   "source": []
  }
 ],
 "metadata": {
  "kernelspec": {
   "display_name": "Python 3",
   "language": "python",
   "name": "python3"
  },
  "language_info": {
   "codemirror_mode": {
    "name": "ipython",
    "version": 3
   },
   "file_extension": ".py",
   "mimetype": "text/x-python",
   "name": "python",
   "nbconvert_exporter": "python",
   "pygments_lexer": "ipython3",
   "version": "3.12.8"
  }
 },
 "nbformat": 4,
 "nbformat_minor": 2
}
